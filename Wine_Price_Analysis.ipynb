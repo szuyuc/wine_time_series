{
 "cells": [
  {
   "cell_type": "markdown",
   "metadata": {},
   "source": [
    "## Loading Data"
   ]
  },
  {
   "cell_type": "code",
   "execution_count": 1,
   "metadata": {},
   "outputs": [],
   "source": [
    "import pandas as pd\n",
    "import matplotlib.pyplot as plt\n",
    "import seaborn as sns\n",
    "import numpy as np\n",
    "import matplotlib.dates as mdates"
   ]
  },
  {
   "cell_type": "code",
   "execution_count": 2,
   "metadata": {},
   "outputs": [],
   "source": [
    "xls = pd.ExcelFile('FirstGrowth_SecondWines.xlsx')\n",
    "wine_name = xls.sheet_names\n",
    "code_name = ['wine'+str(i) for i in range(11)]\n",
    "for i,val in enumerate(wine_name):\n",
    "    code_name[i] = pd.read_excel(xls,val )"
   ]
  },
  {
   "cell_type": "code",
   "execution_count": 3,
   "metadata": {},
   "outputs": [],
   "source": [
    "wine_score = code_name[10]"
   ]
  },
  {
   "cell_type": "code",
   "execution_count": 4,
   "metadata": {},
   "outputs": [
    {
     "data": {
      "text/html": [
       "<div>\n",
       "<style scoped>\n",
       "    .dataframe tbody tr th:only-of-type {\n",
       "        vertical-align: middle;\n",
       "    }\n",
       "\n",
       "    .dataframe tbody tr th {\n",
       "        vertical-align: top;\n",
       "    }\n",
       "\n",
       "    .dataframe thead th {\n",
       "        text-align: right;\n",
       "    }\n",
       "</style>\n",
       "<table border=\"1\" class=\"dataframe\">\n",
       "  <thead>\n",
       "    <tr style=\"text-align: right;\">\n",
       "      <th></th>\n",
       "      <th>Vintage</th>\n",
       "      <th>Lafite Rothschild</th>\n",
       "      <th>Carruades Lafite</th>\n",
       "      <th>Mouton Rothschild</th>\n",
       "      <th>Petit Mouton</th>\n",
       "      <th>Margaux</th>\n",
       "      <th>Pavillon Rouge (Margaux)</th>\n",
       "      <th>Haut Brion</th>\n",
       "      <th>Clarence Haut Brion</th>\n",
       "      <th>Latour</th>\n",
       "      <th>Forts Latour</th>\n",
       "    </tr>\n",
       "  </thead>\n",
       "  <tbody>\n",
       "    <tr>\n",
       "      <th>0</th>\n",
       "      <td>2007</td>\n",
       "      <td>94</td>\n",
       "      <td>90</td>\n",
       "      <td>92</td>\n",
       "      <td>88</td>\n",
       "      <td>92</td>\n",
       "      <td>89</td>\n",
       "      <td>94</td>\n",
       "      <td>88</td>\n",
       "      <td>92</td>\n",
       "      <td>89</td>\n",
       "    </tr>\n",
       "    <tr>\n",
       "      <th>1</th>\n",
       "      <td>2008</td>\n",
       "      <td>98</td>\n",
       "      <td>91</td>\n",
       "      <td>95</td>\n",
       "      <td>89</td>\n",
       "      <td>94</td>\n",
       "      <td>88</td>\n",
       "      <td>96</td>\n",
       "      <td>91</td>\n",
       "      <td>95</td>\n",
       "      <td>91</td>\n",
       "    </tr>\n",
       "    <tr>\n",
       "      <th>2</th>\n",
       "      <td>2009</td>\n",
       "      <td>97</td>\n",
       "      <td>93</td>\n",
       "      <td>99</td>\n",
       "      <td>93</td>\n",
       "      <td>98</td>\n",
       "      <td>93</td>\n",
       "      <td>100</td>\n",
       "      <td>92</td>\n",
       "      <td>100</td>\n",
       "      <td>95</td>\n",
       "    </tr>\n",
       "    <tr>\n",
       "      <th>3</th>\n",
       "      <td>2010</td>\n",
       "      <td>98</td>\n",
       "      <td>94</td>\n",
       "      <td>99</td>\n",
       "      <td>93</td>\n",
       "      <td>99</td>\n",
       "      <td>94</td>\n",
       "      <td>100</td>\n",
       "      <td>93</td>\n",
       "      <td>100</td>\n",
       "      <td>97</td>\n",
       "    </tr>\n",
       "    <tr>\n",
       "      <th>4</th>\n",
       "      <td>2011</td>\n",
       "      <td>92</td>\n",
       "      <td>88</td>\n",
       "      <td>92</td>\n",
       "      <td>87</td>\n",
       "      <td>93</td>\n",
       "      <td>89</td>\n",
       "      <td>94</td>\n",
       "      <td>90</td>\n",
       "      <td>94</td>\n",
       "      <td>91</td>\n",
       "    </tr>\n",
       "    <tr>\n",
       "      <th>5</th>\n",
       "      <td>2012</td>\n",
       "      <td>91</td>\n",
       "      <td>89</td>\n",
       "      <td>96</td>\n",
       "      <td>90</td>\n",
       "      <td>96</td>\n",
       "      <td>90</td>\n",
       "      <td>96</td>\n",
       "      <td>90</td>\n",
       "      <td>-</td>\n",
       "      <td>92</td>\n",
       "    </tr>\n",
       "    <tr>\n",
       "      <th>6</th>\n",
       "      <td>2013</td>\n",
       "      <td>90</td>\n",
       "      <td>78</td>\n",
       "      <td>92</td>\n",
       "      <td>89</td>\n",
       "      <td>91</td>\n",
       "      <td>87</td>\n",
       "      <td>92</td>\n",
       "      <td>87</td>\n",
       "      <td>-</td>\n",
       "      <td>91</td>\n",
       "    </tr>\n",
       "    <tr>\n",
       "      <th>7</th>\n",
       "      <td>2014</td>\n",
       "      <td>95</td>\n",
       "      <td>88</td>\n",
       "      <td>95</td>\n",
       "      <td>92</td>\n",
       "      <td>95</td>\n",
       "      <td>90</td>\n",
       "      <td>96</td>\n",
       "      <td>91</td>\n",
       "      <td>-</td>\n",
       "      <td>-</td>\n",
       "    </tr>\n",
       "    <tr>\n",
       "      <th>8</th>\n",
       "      <td>2015</td>\n",
       "      <td>96</td>\n",
       "      <td>91</td>\n",
       "      <td>98</td>\n",
       "      <td>93</td>\n",
       "      <td>99</td>\n",
       "      <td>92</td>\n",
       "      <td>100</td>\n",
       "      <td>93</td>\n",
       "      <td>-</td>\n",
       "      <td>-</td>\n",
       "    </tr>\n",
       "    <tr>\n",
       "      <th>9</th>\n",
       "      <td>2016</td>\n",
       "      <td>99</td>\n",
       "      <td>92</td>\n",
       "      <td>100</td>\n",
       "      <td>93</td>\n",
       "      <td>99</td>\n",
       "      <td>93</td>\n",
       "      <td>100</td>\n",
       "      <td>93</td>\n",
       "      <td>-</td>\n",
       "      <td>-</td>\n",
       "    </tr>\n",
       "    <tr>\n",
       "      <th>10</th>\n",
       "      <td>2017</td>\n",
       "      <td>98</td>\n",
       "      <td>91</td>\n",
       "      <td>98</td>\n",
       "      <td>90</td>\n",
       "      <td>97</td>\n",
       "      <td>92</td>\n",
       "      <td>96</td>\n",
       "      <td>90</td>\n",
       "      <td>-</td>\n",
       "      <td>-</td>\n",
       "    </tr>\n",
       "  </tbody>\n",
       "</table>\n",
       "</div>"
      ],
      "text/plain": [
       "    Vintage  Lafite Rothschild  Carruades Lafite  Mouton Rothschild  \\\n",
       "0      2007                 94                90                 92   \n",
       "1      2008                 98                91                 95   \n",
       "2      2009                 97                93                 99   \n",
       "3      2010                 98                94                 99   \n",
       "4      2011                 92                88                 92   \n",
       "5      2012                 91                89                 96   \n",
       "6      2013                 90                78                 92   \n",
       "7      2014                 95                88                 95   \n",
       "8      2015                 96                91                 98   \n",
       "9      2016                 99                92                100   \n",
       "10     2017                 98                91                 98   \n",
       "\n",
       "    Petit Mouton  Margaux  Pavillon Rouge (Margaux)  Haut Brion  \\\n",
       "0             88       92                        89          94   \n",
       "1             89       94                        88          96   \n",
       "2             93       98                        93         100   \n",
       "3             93       99                        94         100   \n",
       "4             87       93                        89          94   \n",
       "5             90       96                        90          96   \n",
       "6             89       91                        87          92   \n",
       "7             92       95                        90          96   \n",
       "8             93       99                        92         100   \n",
       "9             93       99                        93         100   \n",
       "10            90       97                        92          96   \n",
       "\n",
       "    Clarence Haut Brion Latour Forts Latour  \n",
       "0                    88     92           89  \n",
       "1                    91     95           91  \n",
       "2                    92    100           95  \n",
       "3                    93    100           97  \n",
       "4                    90     94           91  \n",
       "5                    90      -           92  \n",
       "6                    87      -           91  \n",
       "7                    91      -            -  \n",
       "8                    93      -            -  \n",
       "9                    93      -            -  \n",
       "10                   90      -            -  "
      ]
     },
     "execution_count": 4,
     "metadata": {},
     "output_type": "execute_result"
    }
   ],
   "source": [
    "wine_score"
   ]
  },
  {
   "cell_type": "code",
   "execution_count": 5,
   "metadata": {},
   "outputs": [],
   "source": [
    "#cleaning '-'\n",
    "wine_table= wine_score.set_index('Vintage')\n",
    "wine_table['Latour'].replace('-',np.nan,inplace = True)\n",
    "wine_table['Forts Latour'].replace('-',np.nan,inplace = True)"
   ]
  },
  {
   "cell_type": "markdown",
   "metadata": {},
   "source": [
    "### Wine Ranking Average \n",
    "\n",
    "| First Growths     | Second Wines        |\n",
    "| ------------------|:-------------:      |\n",
    "| Haut Brion        | Clarence Haut Brion |\n",
    "| Latour            | Forts Latour        |\n",
    "| Mouton Rothschild | Petit Mouton        |\n",
    "| Margaux           | Pavillon Rouge      |\n",
    "|Lafite Rothschild  | Carruades Lafite    |\n",
    "    "
   ]
  },
  {
   "cell_type": "code",
   "execution_count": 6,
   "metadata": {},
   "outputs": [],
   "source": [
    "cat_ranking = np.around(wine_table.mean(axis=0),decimals=1).sort_values(ascending = False)"
   ]
  },
  {
   "cell_type": "code",
   "execution_count": 7,
   "metadata": {},
   "outputs": [
    {
     "data": {
      "text/plain": [
       "Haut Brion                  96.7\n",
       "Latour                      96.2\n",
       "Mouton Rothschild           96.0\n",
       "Margaux                     95.7\n",
       "Lafite Rothschild           95.3\n",
       "Forts Latour                92.3\n",
       "Clarence Haut Brion         90.7\n",
       "Pavillon Rouge (Margaux)    90.6\n",
       "Petit Mouton                90.6\n",
       "Carruades Lafite            89.5\n",
       "dtype: float64"
      ]
     },
     "execution_count": 7,
     "metadata": {},
     "output_type": "execute_result"
    }
   ],
   "source": [
    "cat_ranking"
   ]
  },
  {
   "cell_type": "markdown",
   "metadata": {},
   "source": [
    "### Best Vintage "
   ]
  },
  {
   "cell_type": "code",
   "execution_count": 8,
   "metadata": {},
   "outputs": [
    {
     "data": {
      "text/plain": [
       "[(2010, 96.7),\n",
       " (2016, 96.1),\n",
       " (2009, 96.0),\n",
       " (2015, 95.2),\n",
       " (2008, 92.8),\n",
       " (2014, 92.8),\n",
       " (2012, 92.2),\n",
       " (2011, 91.0),\n",
       " (2007, 90.8),\n",
       " (2013, 88.6)]"
      ]
     },
     "execution_count": 8,
     "metadata": {},
     "output_type": "execute_result"
    }
   ],
   "source": [
    "best_vintage_list= list(zip([2007+i for i in range(10)],np.around(wine_table.mean(axis=1), decimals=1)))\n",
    "best_vintage_list.sort(key = lambda x: x[1],reverse=True)\n",
    "best_vintage_list"
   ]
  },
  {
   "cell_type": "code",
   "execution_count": null,
   "metadata": {
    "scrolled": true
   },
   "outputs": [],
   "source": [
    "# Plotting wine_table\n",
    "colormap = plt.cm.gist_ncar\n",
    "fig = plt.figure(figsize=(10,5))\n",
    "fig.gca().set_prop_cycle(plt.cycler('color', plt.cm.jet(np.linspace(0, 1, 10))))\n",
    "labels = []\n",
    "for i in (cat_ranking.index):\n",
    "    plt.plot(wine_table[i])\n",
    "    name = i \n",
    "    labels.append(name)\n",
    "plt.legend(labels)"
   ]
  },
  {
   "cell_type": "markdown",
   "metadata": {},
   "source": [
    "## Cleaning Data & Checking Basic Info"
   ]
  },
  {
   "cell_type": "code",
   "execution_count": 10,
   "metadata": {},
   "outputs": [],
   "source": [
    "def file_formatting(sheet):\n",
    "    #deep copy\n",
    "    wine = sheet.copy()\n",
    "    vintage = wine.pop('Vintage')\n",
    "    release_date =  wine.pop('Release Date')\n",
    "    date = wine.columns\n",
    "    wine = wine.T\n",
    "    wine.columns = vintage\n",
    "    wine.index = pd.to_datetime(wine.index)\n",
    "    \n",
    "    return vintage, release_date , wine  "
   ]
  },
  {
   "cell_type": "code",
   "execution_count": 11,
   "metadata": {},
   "outputs": [],
   "source": [
    "wine_list = []\n",
    "vintage_list = []\n",
    "for i in range(len(code_name)-1):\n",
    "    vintage, release_date , wine = file_formatting(code_name[i])\n",
    "    vintage_list.append(list(zip(vintage,release_date)))\n",
    "    wine_list.append(wine)"
   ]
  },
  {
   "cell_type": "code",
   "execution_count": null,
   "metadata": {},
   "outputs": [],
   "source": [
    "for i,val in enumerate(vintage_list):\n",
    "    print('======'+str(i)+'======')\n",
    "    print(val)"
   ]
  },
  {
   "cell_type": "code",
   "execution_count": 27,
   "metadata": {},
   "outputs": [],
   "source": [
    "cross_wine = []\n",
    "for i in range(10):\n",
    "    sheet = wine_list[i]\n",
    "    sheet_mean= pd.DataFrame(sheet.mean(axis=1))\n",
    "    cross_wine.append(sheet_mean)"
   ]
  },
  {
   "cell_type": "code",
   "execution_count": 31,
   "metadata": {
    "scrolled": true
   },
   "outputs": [],
   "source": [
    "wine_avg_prices = pd.concat(cross_wine,axis=1)\n",
    "wine_avg_prices.set_axis(wine_name[:10], axis=1, inplace=True)"
   ]
  },
  {
   "cell_type": "code",
   "execution_count": null,
   "metadata": {},
   "outputs": [],
   "source": [
    "wine_avg_prices.head()"
   ]
  },
  {
   "cell_type": "code",
   "execution_count": 36,
   "metadata": {},
   "outputs": [
    {
     "data": {
      "text/plain": [
       "<matplotlib.legend.Legend at 0x11ef12320>"
      ]
     },
     "execution_count": 36,
     "metadata": {},
     "output_type": "execute_result"
    },
    {
     "data": {
      "image/png": "[encoded data removed]",
      "text/plain": [
       "<Figure size 1440x720 with 1 Axes>"
      ]
     },
     "metadata": {
      "needs_background": "light"
     },
     "output_type": "display_data"
    }
   ],
   "source": [
    "colormap = plt.cm.gist_ncar\n",
    "fig = plt.figure(figsize=(20,10))\n",
    "fig.gca().set_prop_cycle(plt.cycler('color', plt.cm.jet(np.linspace(0, 1, 10))))\n",
    "labels = []\n",
    "for i in (cat_ranking.index):\n",
    "    plt.plot(wine_avg_prices[i])\n",
    "    name = i +' ' + str(np.floor(cat_ranking[i]))\n",
    "    labels.append(name)\n",
    "plt.legend(labels)"
   ]
  },
  {
   "cell_type": "code",
   "execution_count": 41,
   "metadata": {},
   "outputs": [
    {
     "data": {
      "text/html": [
       "<div>\n",
       "<style scoped>\n",
       "    .dataframe tbody tr th:only-of-type {\n",
       "        vertical-align: middle;\n",
       "    }\n",
       "\n",
       "    .dataframe tbody tr th {\n",
       "        vertical-align: top;\n",
       "    }\n",
       "\n",
       "    .dataframe thead th {\n",
       "        text-align: right;\n",
       "    }\n",
       "</style>\n",
       "<table border=\"1\" class=\"dataframe\">\n",
       "  <thead>\n",
       "    <tr style=\"text-align: right;\">\n",
       "      <th></th>\n",
       "      <th>Lafite Rothschild</th>\n",
       "      <th>Carruades Lafite</th>\n",
       "      <th>Mouton Rothschild</th>\n",
       "      <th>Petit Mouton</th>\n",
       "      <th>Margaux</th>\n",
       "      <th>Pavillon Rouge (Margaux)</th>\n",
       "      <th>Haut Brion</th>\n",
       "      <th>Clarence Haut Brion</th>\n",
       "      <th>Latour</th>\n",
       "      <th>Forts Latour</th>\n",
       "    </tr>\n",
       "  </thead>\n",
       "  <tbody>\n",
       "    <tr>\n",
       "      <th>count</th>\n",
       "      <td>134.000000</td>\n",
       "      <td>134.000000</td>\n",
       "      <td>134.000000</td>\n",
       "      <td>134.000000</td>\n",
       "      <td>134.000000</td>\n",
       "      <td>134.000000</td>\n",
       "      <td>134.000000</td>\n",
       "      <td>124.000000</td>\n",
       "      <td>134.000000</td>\n",
       "      <td>134.000000</td>\n",
       "    </tr>\n",
       "    <tr>\n",
       "      <th>mean</th>\n",
       "      <td>5773.178300</td>\n",
       "      <td>1929.380770</td>\n",
       "      <td>3902.507124</td>\n",
       "      <td>1227.750822</td>\n",
       "      <td>4104.639424</td>\n",
       "      <td>1051.988198</td>\n",
       "      <td>3749.625314</td>\n",
       "      <td>762.826791</td>\n",
       "      <td>6041.042164</td>\n",
       "      <td>1418.661354</td>\n",
       "    </tr>\n",
       "    <tr>\n",
       "      <th>std</th>\n",
       "      <td>2312.691168</td>\n",
       "      <td>800.343024</td>\n",
       "      <td>1112.255511</td>\n",
       "      <td>570.510852</td>\n",
       "      <td>1133.041704</td>\n",
       "      <td>443.915847</td>\n",
       "      <td>940.971164</td>\n",
       "      <td>210.798247</td>\n",
       "      <td>1773.443834</td>\n",
       "      <td>477.429514</td>\n",
       "    </tr>\n",
       "    <tr>\n",
       "      <th>min</th>\n",
       "      <td>1999.000000</td>\n",
       "      <td>575.000000</td>\n",
       "      <td>1280.000000</td>\n",
       "      <td>417.000000</td>\n",
       "      <td>1999.000000</td>\n",
       "      <td>312.500000</td>\n",
       "      <td>1900.000000</td>\n",
       "      <td>399.000000</td>\n",
       "      <td>2020.000000</td>\n",
       "      <td>528.000000</td>\n",
       "    </tr>\n",
       "    <tr>\n",
       "      <th>25%</th>\n",
       "      <td>4447.691964</td>\n",
       "      <td>1353.892857</td>\n",
       "      <td>3225.035714</td>\n",
       "      <td>976.150000</td>\n",
       "      <td>3270.250000</td>\n",
       "      <td>882.424107</td>\n",
       "      <td>3189.522321</td>\n",
       "      <td>587.566964</td>\n",
       "      <td>5570.300000</td>\n",
       "      <td>1208.550000</td>\n",
       "    </tr>\n",
       "    <tr>\n",
       "      <th>50%</th>\n",
       "      <td>5645.333333</td>\n",
       "      <td>1762.500000</td>\n",
       "      <td>4094.750000</td>\n",
       "      <td>1088.270833</td>\n",
       "      <td>4283.861111</td>\n",
       "      <td>967.050000</td>\n",
       "      <td>3991.000000</td>\n",
       "      <td>723.694444</td>\n",
       "      <td>6634.133333</td>\n",
       "      <td>1445.766667</td>\n",
       "    </tr>\n",
       "    <tr>\n",
       "      <th>75%</th>\n",
       "      <td>6079.000000</td>\n",
       "      <td>2588.875000</td>\n",
       "      <td>4460.975000</td>\n",
       "      <td>1549.527778</td>\n",
       "      <td>4968.845455</td>\n",
       "      <td>1433.637500</td>\n",
       "      <td>4251.875000</td>\n",
       "      <td>940.675000</td>\n",
       "      <td>6932.000000</td>\n",
       "      <td>1784.339286</td>\n",
       "    </tr>\n",
       "    <tr>\n",
       "      <th>max</th>\n",
       "      <td>12161.000000</td>\n",
       "      <td>3698.000000</td>\n",
       "      <td>6364.000000</td>\n",
       "      <td>2351.454545</td>\n",
       "      <td>6265.500000</td>\n",
       "      <td>1797.090909</td>\n",
       "      <td>5848.500000</td>\n",
       "      <td>1177.666667</td>\n",
       "      <td>9089.500000</td>\n",
       "      <td>2324.000000</td>\n",
       "    </tr>\n",
       "  </tbody>\n",
       "</table>\n",
       "</div>"
      ],
      "text/plain": [
       "       Lafite Rothschild  Carruades Lafite  Mouton Rothschild  Petit Mouton  \\\n",
       "count         134.000000        134.000000         134.000000    134.000000   \n",
       "mean         5773.178300       1929.380770        3902.507124   1227.750822   \n",
       "std          2312.691168        800.343024        1112.255511    570.510852   \n",
       "min          1999.000000        575.000000        1280.000000    417.000000   \n",
       "25%          4447.691964       1353.892857        3225.035714    976.150000   \n",
       "50%          5645.333333       1762.500000        4094.750000   1088.270833   \n",
       "75%          6079.000000       2588.875000        4460.975000   1549.527778   \n",
       "max         12161.000000       3698.000000        6364.000000   2351.454545   \n",
       "\n",
       "           Margaux  Pavillon Rouge (Margaux)   Haut Brion  \\\n",
       "count   134.000000                134.000000   134.000000   \n",
       "mean   4104.639424               1051.988198  3749.625314   \n",
       "std    1133.041704                443.915847   940.971164   \n",
       "min    1999.000000                312.500000  1900.000000   \n",
       "25%    3270.250000                882.424107  3189.522321   \n",
       "50%    4283.861111                967.050000  3991.000000   \n",
       "75%    4968.845455               1433.637500  4251.875000   \n",
       "max    6265.500000               1797.090909  5848.500000   \n",
       "\n",
       "       Clarence Haut Brion       Latour  Forts Latour  \n",
       "count           124.000000   134.000000    134.000000  \n",
       "mean            762.826791  6041.042164   1418.661354  \n",
       "std             210.798247  1773.443834    477.429514  \n",
       "min             399.000000  2020.000000    528.000000  \n",
       "25%             587.566964  5570.300000   1208.550000  \n",
       "50%             723.694444  6634.133333   1445.766667  \n",
       "75%             940.675000  6932.000000   1784.339286  \n",
       "max            1177.666667  9089.500000   2324.000000  "
      ]
     },
     "execution_count": 41,
     "metadata": {},
     "output_type": "execute_result"
    }
   ],
   "source": [
    "wine_avg_prices.describe()"
   ]
  },
  {
   "cell_type": "code",
   "execution_count": 43,
   "metadata": {},
   "outputs": [
    {
     "data": {
      "text/plain": [
       "Lafite Rothschild           2312.691168\n",
       "Latour                      1773.443834\n",
       "Margaux                     1133.041704\n",
       "Mouton Rothschild           1112.255511\n",
       "Haut Brion                   940.971164\n",
       "Carruades Lafite             800.343024\n",
       "Petit Mouton                 570.510852\n",
       "Forts Latour                 477.429514\n",
       "Pavillon Rouge (Margaux)     443.915847\n",
       "Clarence Haut Brion          210.798247\n",
       "dtype: float64"
      ]
     },
     "execution_count": 43,
     "metadata": {},
     "output_type": "execute_result"
    }
   ],
   "source": [
    "wine_avg_prices.std().sort_values(ascending = False)"
   ]
  },
  {
   "cell_type": "code",
   "execution_count": null,
   "metadata": {},
   "outputs": [],
   "source": [
    "same_vintage = []\n",
    "vintage_score = []\n",
    "for i,name in enumerate(wine_table.columns):\n",
    "    if i == 8 :\n",
    "        continue\n",
    "    else:\n",
    "        price = wine_list[i][2013].dropna()[0]\n",
    "        score = wine_table.iloc[6][name]\n",
    "        cat_avg =np.around(cat_ave[name].loc[:'2013-02-28'].describe()['mean'],decimals=2)\n",
    "        vintage_score.append((name,score,price,cat_avg))\n",
    "#         same_vintage.append(wine_list[i][2013].dropna()[0])"
   ]
  },
  {
   "cell_type": "code",
   "execution_count": null,
   "metadata": {},
   "outputs": [],
   "source": [
    "wine_table.iloc[6]['Lafite Rothschild']"
   ]
  },
  {
   "cell_type": "code",
   "execution_count": null,
   "metadata": {},
   "outputs": [],
   "source": [
    "m = wine_table ==99\n",
    "wine_99= wine_table.where(m,0)"
   ]
  },
  {
   "cell_type": "code",
   "execution_count": null,
   "metadata": {},
   "outputs": [],
   "source": [
    "wine_99.sum()"
   ]
  },
  {
   "cell_type": "code",
   "execution_count": null,
   "metadata": {},
   "outputs": [],
   "source": [
    "wine_2014 = wine_list[1][2013].dropna()[0]"
   ]
  },
  {
   "cell_type": "code",
   "execution_count": null,
   "metadata": {
    "scrolled": true
   },
   "outputs": [],
   "source": [
    "cat_ave['Lafite Rothschild'].loc[:'2013-02-28'].describe()"
   ]
  },
  {
   "cell_type": "code",
   "execution_count": null,
   "metadata": {},
   "outputs": [],
   "source": [
    "vintage_score.sort()\n",
    "vintage_score"
   ]
  },
  {
   "cell_type": "code",
   "execution_count": null,
   "metadata": {},
   "outputs": [],
   "source": [
    "np.corrcoef([i[2] for i in vintage_score],[i[3] for i in vintage_score])"
   ]
  },
  {
   "cell_type": "code",
   "execution_count": null,
   "metadata": {},
   "outputs": [],
   "source": [
    "plt.scatter([i[1] for i in vintage_score],[i[2] for i in vintage_score])\n",
    "plt.legend()\n",
    "plt.show()"
   ]
  },
  {
   "cell_type": "code",
   "execution_count": null,
   "metadata": {},
   "outputs": [],
   "source": []
  },
  {
   "cell_type": "code",
   "execution_count": null,
   "metadata": {},
   "outputs": [],
   "source": [
    "#wine_list[9].describe()[2007] "
   ]
  },
  {
   "cell_type": "code",
   "execution_count": null,
   "metadata": {},
   "outputs": [],
   "source": [
    "def plot_line_graph(wine):\n",
    "    wine.plot(figsize=(20,10), linewidth=3, fontsize=20,kind='line')\n",
    "    plt.xlabel(('Year'+str(wine_name[0])), fontsize=20)\n",
    "    plt.ylabel('Pounds', fontsize=20)"
   ]
  },
  {
   "cell_type": "code",
   "execution_count": null,
   "metadata": {},
   "outputs": [],
   "source": [
    "def plot_boxchart(wine):\n",
    "    plt.boxplot(wine)"
   ]
  },
  {
   "cell_type": "code",
   "execution_count": null,
   "metadata": {},
   "outputs": [],
   "source": [
    "plot_boxchart(wine_list[8])"
   ]
  },
  {
   "cell_type": "code",
   "execution_count": 19,
   "metadata": {},
   "outputs": [
    {
     "ename": "TypeError",
     "evalue": "cannot concatenate object of type \"<class 'list'>\"; only pd.Series, pd.DataFrame, and pd.Panel (deprecated) objs are valid",
     "output_type": "error",
     "traceback": [
      "\u001b[0;31m---------------------------------------------------------------------------\u001b[0m",
      "\u001b[0;31mTypeError\u001b[0m                                 Traceback (most recent call last)",
      "\u001b[0;32m<ipython-input-19-5560add78c09>\u001b[0m in \u001b[0;36m<module>\u001b[0;34m\u001b[0m\n\u001b[0;32m----> 1\u001b[0;31m \u001b[0mc_2008\u001b[0m\u001b[0;34m=\u001b[0m\u001b[0mpd\u001b[0m\u001b[0;34m.\u001b[0m\u001b[0mconcat\u001b[0m\u001b[0;34m(\u001b[0m\u001b[0mcross_wine\u001b[0m\u001b[0;34m,\u001b[0m \u001b[0maxis\u001b[0m\u001b[0;34m=\u001b[0m\u001b[0;36m1\u001b[0m\u001b[0;34m,\u001b[0m \u001b[0msort\u001b[0m\u001b[0;34m=\u001b[0m\u001b[0;32mFalse\u001b[0m\u001b[0;34m)\u001b[0m\u001b[0;34m.\u001b[0m\u001b[0mmean\u001b[0m\u001b[0;34m(\u001b[0m\u001b[0maxis\u001b[0m\u001b[0;34m=\u001b[0m\u001b[0;36m1\u001b[0m\u001b[0;34m)\u001b[0m\u001b[0;34m\u001b[0m\u001b[0;34m\u001b[0m\u001b[0m\n\u001b[0m",
      "\u001b[0;32m~/.virtualenvs/ml/lib/python3.6/site-packages/pandas/core/reshape/concat.py\u001b[0m in \u001b[0;36mconcat\u001b[0;34m(objs, axis, join, join_axes, ignore_index, keys, levels, names, verify_integrity, sort, copy)\u001b[0m\n\u001b[1;32m    223\u001b[0m                        \u001b[0mkeys\u001b[0m\u001b[0;34m=\u001b[0m\u001b[0mkeys\u001b[0m\u001b[0;34m,\u001b[0m \u001b[0mlevels\u001b[0m\u001b[0;34m=\u001b[0m\u001b[0mlevels\u001b[0m\u001b[0;34m,\u001b[0m \u001b[0mnames\u001b[0m\u001b[0;34m=\u001b[0m\u001b[0mnames\u001b[0m\u001b[0;34m,\u001b[0m\u001b[0;34m\u001b[0m\u001b[0;34m\u001b[0m\u001b[0m\n\u001b[1;32m    224\u001b[0m                        \u001b[0mverify_integrity\u001b[0m\u001b[0;34m=\u001b[0m\u001b[0mverify_integrity\u001b[0m\u001b[0;34m,\u001b[0m\u001b[0;34m\u001b[0m\u001b[0;34m\u001b[0m\u001b[0m\n\u001b[0;32m--> 225\u001b[0;31m                        copy=copy, sort=sort)\n\u001b[0m\u001b[1;32m    226\u001b[0m     \u001b[0;32mreturn\u001b[0m \u001b[0mop\u001b[0m\u001b[0;34m.\u001b[0m\u001b[0mget_result\u001b[0m\u001b[0;34m(\u001b[0m\u001b[0;34m)\u001b[0m\u001b[0;34m\u001b[0m\u001b[0;34m\u001b[0m\u001b[0m\n\u001b[1;32m    227\u001b[0m \u001b[0;34m\u001b[0m\u001b[0m\n",
      "\u001b[0;32m~/.virtualenvs/ml/lib/python3.6/site-packages/pandas/core/reshape/concat.py\u001b[0m in \u001b[0;36m__init__\u001b[0;34m(self, objs, axis, join, join_axes, keys, levels, names, ignore_index, verify_integrity, copy, sort)\u001b[0m\n\u001b[1;32m    284\u001b[0m                        \u001b[0;34m' only pd.Series, pd.DataFrame, and pd.Panel'\u001b[0m\u001b[0;34m\u001b[0m\u001b[0;34m\u001b[0m\u001b[0m\n\u001b[1;32m    285\u001b[0m                        ' (deprecated) objs are valid'.format(type(obj)))\n\u001b[0;32m--> 286\u001b[0;31m                 \u001b[0;32mraise\u001b[0m \u001b[0mTypeError\u001b[0m\u001b[0;34m(\u001b[0m\u001b[0mmsg\u001b[0m\u001b[0;34m)\u001b[0m\u001b[0;34m\u001b[0m\u001b[0;34m\u001b[0m\u001b[0m\n\u001b[0m\u001b[1;32m    287\u001b[0m \u001b[0;34m\u001b[0m\u001b[0m\n\u001b[1;32m    288\u001b[0m             \u001b[0;31m# consolidate\u001b[0m\u001b[0;34m\u001b[0m\u001b[0;34m\u001b[0m\u001b[0;34m\u001b[0m\u001b[0m\n",
      "\u001b[0;31mTypeError\u001b[0m: cannot concatenate object of type \"<class 'list'>\"; only pd.Series, pd.DataFrame, and pd.Panel (deprecated) objs are valid"
     ]
    }
   ],
   "source": [
    "c_2008=pd.concat(cross_wine, axis=1, sort=False).mean(axis=1)\n"
   ]
  },
  {
   "cell_type": "code",
   "execution_count": null,
   "metadata": {
    "scrolled": true
   },
   "outputs": [],
   "source": [
    "plt.plot(temp)"
   ]
  },
  {
   "cell_type": "code",
   "execution_count": null,
   "metadata": {
    "scrolled": true
   },
   "outputs": [],
   "source": [
    "temp = pd.concat(cross_2, axis=1, sort=False)"
   ]
  },
  {
   "cell_type": "code",
   "execution_count": null,
   "metadata": {
    "scrolled": true
   },
   "outputs": [],
   "source": [
    "#vintage = 2007\n",
    "\n",
    "cross_2= []\n",
    "\n",
    "for year in range(2007,2018):\n",
    "    cross_1 =[]\n",
    "    for i in range(10):\n",
    "        sheet = wine_list[i]\n",
    "        cross_1.append(sheet[year])\n",
    "    \n",
    "    cross_2.append(pd.concat(cross_1, axis=1, sort=False).mean(axis=1))\n",
    "\n"
   ]
  },
  {
   "cell_type": "code",
   "execution_count": 27,
   "metadata": {},
   "outputs": [
    {
     "ename": "TypeError",
     "evalue": "cannot concatenate object of type \"<class 'list'>\"; only pd.Series, pd.DataFrame, and pd.Panel (deprecated) objs are valid",
     "output_type": "error",
     "traceback": [
      "\u001b[0;31m---------------------------------------------------------------------------\u001b[0m",
      "\u001b[0;31mTypeError\u001b[0m                                 Traceback (most recent call last)",
      "\u001b[0;32m<ipython-input-27-1cf4fe3842b4>\u001b[0m in \u001b[0;36m<module>\u001b[0;34m\u001b[0m\n\u001b[0;32m----> 1\u001b[0;31m \u001b[0mcat_ave\u001b[0m \u001b[0;34m=\u001b[0m \u001b[0mpd\u001b[0m\u001b[0;34m.\u001b[0m\u001b[0mconcat\u001b[0m\u001b[0;34m(\u001b[0m\u001b[0mcross_wine\u001b[0m\u001b[0;34m,\u001b[0m \u001b[0maxis\u001b[0m\u001b[0;34m=\u001b[0m\u001b[0;36m1\u001b[0m\u001b[0;34m,\u001b[0m \u001b[0msort\u001b[0m\u001b[0;34m=\u001b[0m\u001b[0;32mFalse\u001b[0m\u001b[0;34m)\u001b[0m\u001b[0;34m\u001b[0m\u001b[0;34m\u001b[0m\u001b[0m\n\u001b[0m",
      "\u001b[0;32m~/.virtualenvs/ml/lib/python3.6/site-packages/pandas/core/reshape/concat.py\u001b[0m in \u001b[0;36mconcat\u001b[0;34m(objs, axis, join, join_axes, ignore_index, keys, levels, names, verify_integrity, sort, copy)\u001b[0m\n\u001b[1;32m    223\u001b[0m                        \u001b[0mkeys\u001b[0m\u001b[0;34m=\u001b[0m\u001b[0mkeys\u001b[0m\u001b[0;34m,\u001b[0m \u001b[0mlevels\u001b[0m\u001b[0;34m=\u001b[0m\u001b[0mlevels\u001b[0m\u001b[0;34m,\u001b[0m \u001b[0mnames\u001b[0m\u001b[0;34m=\u001b[0m\u001b[0mnames\u001b[0m\u001b[0;34m,\u001b[0m\u001b[0;34m\u001b[0m\u001b[0;34m\u001b[0m\u001b[0m\n\u001b[1;32m    224\u001b[0m                        \u001b[0mverify_integrity\u001b[0m\u001b[0;34m=\u001b[0m\u001b[0mverify_integrity\u001b[0m\u001b[0;34m,\u001b[0m\u001b[0;34m\u001b[0m\u001b[0;34m\u001b[0m\u001b[0m\n\u001b[0;32m--> 225\u001b[0;31m                        copy=copy, sort=sort)\n\u001b[0m\u001b[1;32m    226\u001b[0m     \u001b[0;32mreturn\u001b[0m \u001b[0mop\u001b[0m\u001b[0;34m.\u001b[0m\u001b[0mget_result\u001b[0m\u001b[0;34m(\u001b[0m\u001b[0;34m)\u001b[0m\u001b[0;34m\u001b[0m\u001b[0;34m\u001b[0m\u001b[0m\n\u001b[1;32m    227\u001b[0m \u001b[0;34m\u001b[0m\u001b[0m\n",
      "\u001b[0;32m~/.virtualenvs/ml/lib/python3.6/site-packages/pandas/core/reshape/concat.py\u001b[0m in \u001b[0;36m__init__\u001b[0;34m(self, objs, axis, join, join_axes, keys, levels, names, ignore_index, verify_integrity, copy, sort)\u001b[0m\n\u001b[1;32m    284\u001b[0m                        \u001b[0;34m' only pd.Series, pd.DataFrame, and pd.Panel'\u001b[0m\u001b[0;34m\u001b[0m\u001b[0;34m\u001b[0m\u001b[0m\n\u001b[1;32m    285\u001b[0m                        ' (deprecated) objs are valid'.format(type(obj)))\n\u001b[0;32m--> 286\u001b[0;31m                 \u001b[0;32mraise\u001b[0m \u001b[0mTypeError\u001b[0m\u001b[0;34m(\u001b[0m\u001b[0mmsg\u001b[0m\u001b[0;34m)\u001b[0m\u001b[0;34m\u001b[0m\u001b[0;34m\u001b[0m\u001b[0m\n\u001b[0m\u001b[1;32m    287\u001b[0m \u001b[0;34m\u001b[0m\u001b[0m\n\u001b[1;32m    288\u001b[0m             \u001b[0;31m# consolidate\u001b[0m\u001b[0;34m\u001b[0m\u001b[0;34m\u001b[0m\u001b[0;34m\u001b[0m\u001b[0m\n",
      "\u001b[0;31mTypeError\u001b[0m: cannot concatenate object of type \"<class 'list'>\"; only pd.Series, pd.DataFrame, and pd.Panel (deprecated) objs are valid"
     ]
    }
   ],
   "source": [
    "cat_ave = pd.concat(cross_wine, axis=1, sort=False)"
   ]
  },
  {
   "cell_type": "code",
   "execution_count": null,
   "metadata": {},
   "outputs": [],
   "source": [
    "cat_ave.set_axis(wine_name[:10], axis=1, inplace=True)"
   ]
  },
  {
   "cell_type": "code",
   "execution_count": null,
   "metadata": {},
   "outputs": [],
   "source": [
    "cat_ave.head()"
   ]
  },
  {
   "cell_type": "code",
   "execution_count": null,
   "metadata": {},
   "outputs": [],
   "source": [
    "cat_ave.info()"
   ]
  },
  {
   "cell_type": "code",
   "execution_count": null,
   "metadata": {},
   "outputs": [],
   "source": []
  },
  {
   "cell_type": "code",
   "execution_count": null,
   "metadata": {},
   "outputs": [],
   "source": []
  },
  {
   "cell_type": "code",
   "execution_count": null,
   "metadata": {},
   "outputs": [],
   "source": [
    "plt.plot(cat_ave.mean(axis=1))"
   ]
  },
  {
   "cell_type": "code",
   "execution_count": null,
   "metadata": {},
   "outputs": [],
   "source": [
    "wine_list[0][2008].loc[:'2013-02-28']"
   ]
  },
  {
   "cell_type": "code",
   "execution_count": null,
   "metadata": {},
   "outputs": [],
   "source": []
  },
  {
   "cell_type": "code",
   "execution_count": null,
   "metadata": {},
   "outputs": [],
   "source": [
    "def get_rank(wine):\n",
    "    for vintage in wine.columns:\n",
    "        copy = wine[vintage].copy()\n",
    "        print(vintage)\n",
    "        print(copy.nlargest(5))"
   ]
  },
  {
   "cell_type": "code",
   "execution_count": null,
   "metadata": {
    "scrolled": true
   },
   "outputs": [],
   "source": [
    "get_rank(wine_list[4])"
   ]
  },
  {
   "cell_type": "code",
   "execution_count": null,
   "metadata": {},
   "outputs": [],
   "source": [
    "wine_list[4].plot(marker='.', alpha=0.5, linestyle='None', figsize=(11, 9), subplots=False)"
   ]
  },
  {
   "cell_type": "code",
   "execution_count": null,
   "metadata": {
    "scrolled": true
   },
   "outputs": [],
   "source": [
    "def plot_cross_corr(wine):\n",
    "    fig = plt.figure()\n",
    "    ax1 = fig.add_subplot(111)\n",
    "    ax1.xcorr(wine[2007].loc['2009-04-30':], wine[2008].loc['2009-04-30':], usevlines=False, maxlags=10, normed=True)"
   ]
  },
  {
   "cell_type": "code",
   "execution_count": null,
   "metadata": {},
   "outputs": [],
   "source": [
    "def plot_check_graph():\n",
    "    plt.plot(wine[2017])\n",
    "    plt.plot(wine[2013])\n",
    "    plt.show()"
   ]
  },
  {
   "cell_type": "code",
   "execution_count": null,
   "metadata": {},
   "outputs": [],
   "source": [
    "def plot_corr(wine):\n",
    "    corr = wine.corr()\n",
    "    ax = sns.heatmap(corr,cmap='YlGnBu',annot=True)\n",
    "    ax.invert_yaxis()"
   ]
  },
  {
   "cell_type": "code",
   "execution_count": null,
   "metadata": {},
   "outputs": [],
   "source": [
    "plot_corr(wine_list[6])"
   ]
  },
  {
   "cell_type": "markdown",
   "metadata": {},
   "source": []
  },
  {
   "cell_type": "code",
   "execution_count": null,
   "metadata": {
    "scrolled": true
   },
   "outputs": [],
   "source": [
    "def plot_diff(wine):\n",
    "#first-order differences; removing the trend may reveal correlation in seasonality.\n",
    "    wine.diff().plot(figsize=(8,5), linewidth=2, fontsize=20)"
   ]
  },
  {
   "cell_type": "code",
   "execution_count": null,
   "metadata": {},
   "outputs": [],
   "source": [
    "plot_diff(cat_ave.mean(axis=1))"
   ]
  },
  {
   "cell_type": "code",
   "execution_count": null,
   "metadata": {},
   "outputs": [],
   "source": [
    "wine.diff().corr()"
   ]
  },
  {
   "cell_type": "markdown",
   "metadata": {},
   "source": [
    "Autocorrelation\n",
    "Auto-correlation is the comparison of a time series with itself at a different time. It aims, for example, to detect repeating patterns or seasonality. For example: “Is there weekly seasonality on a server website?”\n",
    "Cross-correlation is the comparison of two different time series to detect if there is a correlation between metrics with the same maximum and minimum values.For example: “Are two audio signals in phase?”\n",
    "shitf by time \n",
    "\n"
   ]
  },
  {
   "cell_type": "code",
   "execution_count": null,
   "metadata": {},
   "outputs": [],
   "source": [
    "#So, this means that if the original time series repeats itself every two days, you would expect to see a spike in the autocorrelation function at 2 days.\n",
    "#how correlated the time series is with itself at that lag"
   ]
  },
  {
   "cell_type": "code",
   "execution_count": null,
   "metadata": {},
   "outputs": [],
   "source": [
    "fig1 = pd.plotting.autocorrelation_plot(wine[2007])"
   ]
  },
  {
   "cell_type": "code",
   "execution_count": null,
   "metadata": {},
   "outputs": [],
   "source": [
    "fig2 = pd.plotting.autocorrelation_plot(wine[2008].loc['2009-04-30':])"
   ]
  },
  {
   "cell_type": "code",
   "execution_count": null,
   "metadata": {},
   "outputs": [],
   "source": [
    "fig3 = pd.plotting.autocorrelation_plot(wine[2009].loc['2010-06-30':])"
   ]
  },
  {
   "cell_type": "code",
   "execution_count": null,
   "metadata": {},
   "outputs": [],
   "source": [
    "pd.plotting.autocorrelation_plot(wine[2010].loc['2011-07-31':])"
   ]
  },
  {
   "cell_type": "code",
   "execution_count": null,
   "metadata": {},
   "outputs": [],
   "source": [
    "release_date"
   ]
  },
  {
   "cell_type": "code",
   "execution_count": null,
   "metadata": {},
   "outputs": [],
   "source": [
    "wine.rolling(12).mean().plot(figsize=(8,5), linewidth=5, fontsize=20)"
   ]
  },
  {
   "cell_type": "markdown",
   "metadata": {},
   "source": [
    "resource = https://www.datacamp.com/community/tutorials/time-series-analysis-tutorial"
   ]
  },
  {
   "cell_type": "code",
   "execution_count": null,
   "metadata": {},
   "outputs": [],
   "source": [
    "# assumption here: doesn't matter of vintage \n",
    "#we expect new launched wine have same path \n",
    "# by checking on data, wrong assumption \n"
   ]
  },
  {
   "cell_type": "code",
   "execution_count": null,
   "metadata": {},
   "outputs": [],
   "source": [
    "#normalize cross correlation\n",
    "a = wine[2008].loc['2009-04-30':]\n",
    "b = wine[2007].loc['2009-04-30':]\n",
    "a = (a - np.mean(a)) / (np.std(a) * len(a))\n",
    "b = (b - np.mean(b)) / (np.std(b))\n",
    "c = np.correlate(a, b, 'full')"
   ]
  },
  {
   "cell_type": "code",
   "execution_count": null,
   "metadata": {},
   "outputs": [],
   "source": [
    "len(c)"
   ]
  },
  {
   "cell_type": "code",
   "execution_count": null,
   "metadata": {},
   "outputs": [],
   "source": [
    "\n",
    "temp = pd.DataFrame({'2017':wine[2017].loc['2018-06-30':],'2018':wine[2016].loc['2018-06-30':]})"
   ]
  },
  {
   "cell_type": "code",
   "execution_count": null,
   "metadata": {},
   "outputs": [],
   "source": [
    "temp.corr()"
   ]
  },
  {
   "cell_type": "code",
   "execution_count": null,
   "metadata": {},
   "outputs": [],
   "source": [
    "temp.plot()"
   ]
  },
  {
   "cell_type": "code",
   "execution_count": null,
   "metadata": {},
   "outputs": [],
   "source": [
    "temp.rolling(6).mean()['2018-11-30':].corr()\n"
   ]
  },
  {
   "cell_type": "code",
   "execution_count": null,
   "metadata": {},
   "outputs": [],
   "source": [
    "temp.rolling(6).mean()['2018-11-30':].plot()"
   ]
  },
  {
   "cell_type": "code",
   "execution_count": null,
   "metadata": {},
   "outputs": [],
   "source": [
    "\n",
    "fig, ax = plt.subplots(figsize=(20,10))\n",
    "plt.xticks(rotation=90)\n",
    "\n",
    "#ax.plot(wine[2007], marker='o', linestyle='-')\n",
    "ax.plot(wine, linestyle='-')\n",
    "ax.set_ylabel('Daily Consumption (GWh)')\n",
    "ax.set_title('Jan-Feb 2017 Electricity Consumption')\n",
    "# Set x-axis major ticks to weekly interval, on Mondays\n",
    "ax.xaxis.set_major_locator(mdates.MonthLocator())\n",
    "# Format x-tick labels as 3-letter month name and day number\n",
    "\n",
    "ax.xaxis.set_major_formatter(mdates.DateFormatter('%y'));"
   ]
  },
  {
   "cell_type": "code",
   "execution_count": null,
   "metadata": {},
   "outputs": [],
   "source": []
  }
 ],
 "metadata": {
  "kernelspec": {
   "display_name": "Python 3",
   "language": "python",
   "name": "python3"
  },
  "language_info": {
   "codemirror_mode": {
    "name": "ipython",
    "version": 3
   },
   "file_extension": ".py",
   "mimetype": "text/x-python",
   "name": "python",
   "nbconvert_exporter": "python",
   "pygments_lexer": "ipython3",
   "version": "3.6.7"
  }
 },
 "nbformat": 4,
 "nbformat_minor": 2
}
